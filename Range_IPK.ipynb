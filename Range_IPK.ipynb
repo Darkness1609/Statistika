{
  "nbformat": 4,
  "nbformat_minor": 0,
  "metadata": {
    "colab": {
      "name": "Range IPK.ipynb",
      "provenance": [],
      "collapsed_sections": []
    },
    "kernelspec": {
      "name": "python3",
      "display_name": "Python 3"
    },
    "language_info": {
      "name": "python"
    }
  },
  "cells": [
    {
      "cell_type": "code",
      "metadata": {
        "colab": {
          "resources": {
            "http://localhost:8080/nbextensions/google.colab/files.js": {
              "data": "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",
              "ok": true,
              "headers": [
                [
                  "content-type",
                  "application/javascript"
                ]
              ],
              "status": 200,
              "status_text": ""
            }
          },
          "base_uri": "https://localhost:8080/",
          "height": 73
        },
        "id": "ZeM2N3kIVkVL",
        "outputId": "e413078b-0282-4059-ef1f-eea2f1929fb3"
      },
      "source": [
        "import pandas as pd\n",
        "from google.colab import files\n",
        "filenya=files.upload()"
      ],
      "execution_count": 38,
      "outputs": [
        {
          "output_type": "display_data",
          "data": {
            "text/html": [
              "\n",
              "     <input type=\"file\" id=\"files-19eec446-eb67-4dd7-a8c6-3f5afb908be2\" name=\"files[]\" multiple disabled\n",
              "        style=\"border:none\" />\n",
              "     <output id=\"result-19eec446-eb67-4dd7-a8c6-3f5afb908be2\">\n",
              "      Upload widget is only available when the cell has been executed in the\n",
              "      current browser session. Please rerun this cell to enable.\n",
              "      </output>\n",
              "      <script src=\"/nbextensions/google.colab/files.js\"></script> "
            ],
            "text/plain": [
              "<IPython.core.display.HTML object>"
            ]
          },
          "metadata": {
            "tags": []
          }
        },
        {
          "output_type": "stream",
          "text": [
            "Saving range.csv to range.csv\n"
          ],
          "name": "stdout"
        }
      ]
    },
    {
      "cell_type": "code",
      "metadata": {
        "colab": {
          "base_uri": "https://localhost:8080/"
        },
        "id": "fVvS04tCVwxe",
        "outputId": "08dbf041-943e-43fd-debf-280b0feb27bb"
      },
      "source": [
        "filenya"
      ],
      "execution_count": 39,
      "outputs": [
        {
          "output_type": "execute_result",
          "data": {
            "text/plain": [
              "{'range.csv': b'\"Timestamp\",\"Nama\",\"NIM\",\"Jenis Kelamin\",\"Fakultas\",\"Periode Memiliki Medsos\",\"Durasi Penggunaan Medsos Sehari\",\"IPK\",\"Tingkat Kebutuhan Penggunaan Medsos\"\\n\"2021/06/02 11:04:41 AM GMT+7\",\"Sisca Cahya Puspita\",\"192410103009\",\"Perempuan\",\"Fakultas Ilmu Komputer \",\">4 Tahun\",\"0-12 Jam\",\"3,01-3,5\",\"Sangat Membutuhkan\"\\n\"2021/06/02 11:05:44 AM GMT+7\",\"RONIN DUTTA AMANDA\",\"191610101041\",\"Laki-laki\",\"KEDOKTERAN GIGI\",\">4 Tahun\",\"0-12 Jam\",\"3,01-3,5\",\"Sangat Membutuhkan\"\\n\"2021/06/02 11:12:35 AM GMT+7\",\"Novita Milasari\",\"192410103011\",\"Perempuan\",\"Ilmu Komputer\",\">4 Tahun\",\"12-24 Jam\",\"3,01-3,5\",\"Sangat Membutuhkan\"\\n\"2021/06/02 11:12:39 AM GMT+7\",\"Ananda Putri Citra Kusuma Dewi\",\"190210302036\",\"Perempuan\",\"Fakultas Keguruan dan Ilmu Pendidikan\",\">4 Tahun\",\"12-24 Jam\",\"3,51-4\",\"Membutuhkan\"\\n\"2021/06/02 11:14:26 AM GMT+7\",\"Lila\",\"192410103047\",\"Perempuan\",\"Ilmu komputer\",\">4 Tahun\",\"12-24 Jam\",\"3,01-3,5\",\"Membutuhkan\"\\n\"2021/06/02 11:14:41 AM GMT+7\",\"Muhammad Wahid Ash Shiddiq\",\"192410101110\",\"Laki-laki\",\"Ilmu Komputer\",\">4 Tahun\",\"0-12 Jam\",\"3,51-4\",\"Membutuhkan\"\\n\"2021/06/02 11:17:20 AM GMT+7\",\"firly dwi anggraini lestari sudarto \",\"190903101022\",\"Perempuan\",\"fisip\",\">4 Tahun\",\"12-24 Jam\",\"3,51-4\",\"Sangat Membutuhkan\"\\n\"2021/06/02 11:19:26 AM GMT+7\",\"nilam cahya \",\"192410103077\",\"Perempuan\",\"ilmu komputer\",\">4 Tahun\",\"0-12 Jam\",\"2,75-3,0\",\"Membutuhkan\"\\n\"2021/06/02 11:19:38 AM GMT+7\",\"AHMAD FAISHOL FAWWAS\",\"192410103065\",\"Laki-laki\",\"FASILKOM\",\">4 Tahun\",\"0-12 Jam\",\"3,51-4\",\"Membutuhkan\"\\n\"2021/06/02 11:20:17 AM GMT+7\",\"Felyn\",\"192410101070\",\"Perempuan\",\"Fasilkom\",\">4 Tahun\",\"0-12 Jam\",\"3,51-4\",\"Membutuhkan\"\\n\"2021/06/02 11:23:49 AM GMT+7\",\"Tia putri \",\"192410103016\",\"Perempuan\",\"Ilmu Komputer\",\"2-4 Tahun\",\"12-24 Jam\",\"3,51-4\",\"Membutuhkan\"\\n\"2021/06/02 11:26:35 AM GMT+7\",\"Azizah noer andini\",\"180810102117\",\"Perempuan\",\"Feb\",\">4 Tahun\",\"0-12 Jam\",\"3,51-4\",\"Membutuhkan\"\\n\"2021/06/02 11:31:15 AM GMT+7\",\"Rosalia adinda \",\"170710101445\",\"Perempuan\",\"Hukum\",\">4 Tahun\",\"0-12 Jam\",\"3,51-4\",\"Sangat Membutuhkan\"\\n\"2021/06/02 11:31:37 AM GMT+7\",\"Divanty Nur Yuli Prashinta\",\"190710101358\",\"Perempuan\",\"Hukum\",\">4 Tahun\",\"0-12 Jam\",\"3,51-4\",\"Membutuhkan\"\\n\"2021/06/02 11:32:45 AM GMT+7\",\"Rosa Fahira Arfinda\",\"171710101112\",\"Perempuan\",\"Ftp\",\">4 Tahun\",\"12-24 Jam\",\"3,01-3,5\",\"Sangat Membutuhkan\"\\n\"2021/06/02 11:33:30 AM GMT+7\",\"Rani Fauziyah Putri\",\"192110101127\",\"Perempuan\",\"Kesehatan Masyarakat\",\">4 Tahun\",\"0-12 Jam\",\"3,51-4\",\"Sangat Membutuhkan\"\\n\"2021/06/02 11:33:37 AM GMT+7\",\"Renata Wijayanti\",\"191810101066\",\"Perempuan\",\"MIPA\",\">4 Tahun\",\"0-12 Jam\",\"3,51-4\",\"Sangat Membutuhkan\"\\n\"2021/06/02 11:36:53 AM GMT+7\",\"Jihan\",\"182410101056\",\"Perempuan\",\"Ilmu Komputer\",\">4 Tahun\",\"0-12 Jam\",\"3,51-4\",\"Membutuhkan\"\\n\"2021/06/02 11:38:26 AM GMT+7\",\"Sofyatul Masykuroh \",\"192410102001\",\"Perempuan\",\"Ilmu komputer \",\">4 Tahun\",\"0-12 Jam\",\"3,01-3,5\",\"Membutuhkan\"\\n\"2021/06/02 11:45:14 AM GMT+7\",\"Mirza cynthia\",\"170903102014\",\"Perempuan\",\"Fisip\",\">4 Tahun\",\"0-12 Jam\",\"3,01-3,5\",\"Sangat Membutuhkan\"\\n\"2021/06/02 11:47:04 AM GMT+7\",\"Rizqi Dhia R\",\"191710301075\",\"Laki-laki\",\"Teknologi Pertanian\",\">4 Tahun\",\"0-12 Jam\",\"3,51-4\",\"Sangat Membutuhkan\"\\n\"2021/06/02 11:49:51 AM GMT+7\",\"Ratna Puspita Eka Putri\",\"192410103004\",\"Perempuan\",\"Ilmu Komputer\",\">4 Tahun\",\"0-12 Jam\",\"2,75-3,0\",\"Membutuhkan\"\\n\"2021/06/02 11:50:39 AM GMT+7\",\"Yunia Sa Paringanti\",\"171710201017\",\"Perempuan\",\"Teknologi Pertanian\",\">4 Tahun\",\"0-12 Jam\",\"3,51-4\",\"Sangat Membutuhkan\"\\n\"2021/06/02 11:54:27 AM GMT+7\",\"Maulida Izzatun Hasanah \",\"192410103020\",\"Perempuan\",\"Ilmu komputer\",\">4 Tahun\",\"0-12 Jam\",\"3,01-3,5\",\"Membutuhkan\"\\n\"2021/06/02 11:55:02 AM GMT+7\",\"Meta \",\"191810101099\",\"Perempuan\",\"Mipa\",\">4 Tahun\",\"12-24 Jam\",\"3,01-3,5\",\"Membutuhkan\"\\n\"2021/06/02 11:55:34 AM GMT+7\",\"Achmad Sepvi Andi Hidayat\",\"192410103015\",\"Laki-laki\",\"Ilmu komputer\",\"2-4 Tahun\",\"0-12 Jam\",\"3,01-3,5\",\"Membutuhkan\"\\n\"2021/06/02 11:55:48 AM GMT+7\",\"elia\",\"191510601003\",\"Perempuan\",\"pertanian\",\">4 Tahun\",\"12-24 Jam\",\"3,51-4\",\"Membutuhkan\"\\n\"2021/06/02 11:58:59 AM GMT+7\",\"Isti\",\"190810201025\",\"Perempuan\",\"Ekonomi dan bisnis\",\">4 Tahun\",\"0-12 Jam\",\"3,51-4\",\"Membutuhkan\"\\n\"2021/06/02 11:59:50 AM GMT+7\",\"Lala Faradilla\",\"190910202123 \",\"Perempuan\",\"FISIP\",\">4 Tahun\",\"0-12 Jam\",\"3,51-4\",\"Sangat Membutuhkan\"\\n\"2021/06/02 12:03:26 PM GMT+7\",\"Auliea Safitri\",\"191810301019\",\"Perempuan\",\"FMIPA\",\">4 Tahun\",\"0-12 Jam\",\"3,01-3,5\",\"Membutuhkan\"\\n\"2021/06/02 12:03:52 PM GMT+7\",\"Erika Fernanda Ardana \",\"192410103048\",\"Perempuan\",\"Ilmu Komputer\",\">4 Tahun\",\"0-12 Jam\",\"3,01-3,5\",\"Sangat Membutuhkan\"\\n\"2021/06/02 12:03:54 PM GMT+7\",\"Aufa shofi \",\"180710101079\",\"Perempuan\",\"ILMU HUKUM\",\"2-4 Tahun\",\"0-12 Jam\",\"3,01-3,5\",\"Sangat Membutuhkan\"\\n\"2021/06/02 12:07:48 PM GMT+7\",\"safa\",\"192410103090\",\"Perempuan\",\"ilmu komputer\",\">4 Tahun\",\"0-12 Jam\",\"3,51-4\",\"Membutuhkan\"\\n\"2021/06/02 12:09:10 PM GMT+7\",\"Rizqi Hidayat\",\"192410103017\",\"Laki-laki\",\"Ilmu Komputer\",\">4 Tahun\",\"0-12 Jam\",\"3,01-3,5\",\"Sangat Membutuhkan\"\\n\"2021/06/02 12:09:18 PM GMT+7\",\"Dymas Pratama Soebagyo \",\"190910302091\",\"Laki-laki\",\"FISIP\",\">4 Tahun\",\"0-12 Jam\",\"3,01-3,5\",\"Membutuhkan\"\\n\"2021/06/02 12:09:45 PM GMT+7\",\"Nur Indah Fidia Wati\",\"192410101039\",\"Perempuan\",\"Fasilkom\",\">4 Tahun\",\"12-24 Jam\",\"3,51-4\",\"Sangat Membutuhkan\"\\n\"2021/06/02 12:11:20 PM GMT+7\",\"Sherly Fitria\",\"191510601023\",\"Perempuan\",\"Pertanian\",\">4 Tahun\",\"12-24 Jam\",\"3,51-4\",\"Sangat Membutuhkan\"\\n\"2021/06/02 12:12:13 PM GMT+7\",\"Achmad aqrom\",\"192410103034\",\"Laki-laki\",\"Ilmu komputer\",\">4 Tahun\",\"0-12 Jam\",\"3,01-3,5\",\"Membutuhkan\"\\n\"2021/06/02 12:12:18 PM GMT+7\",\"Dzul fikri irsyad\",\"192410103050\",\"Laki-laki\",\"Ilmu komputer\",\">4 Tahun\",\"0-12 Jam\",\"3,01-3,5\",\"Membutuhkan\"\\n\"2021/06/02 12:14:37 PM GMT+7\",\"Shintia Anggi\",\"192410102058\",\"Perempuan\",\"Ilmu komputer\",\">4 Tahun\",\"0-12 Jam\",\"3,01-3,5\",\"Membutuhkan\"\\n\"2021/06/02 12:14:53 PM GMT+7\",\"Rau\",\"3061\",\"Laki-laki\",\"Ilkom\",\">4 Tahun\",\"0-12 Jam\",\"3,51-4\",\"Sangat Membutuhkan\"\\n\"2021/06/02 12:16:19 PM GMT+7\",\"Dieva Erlia Putri\",\"192410103026\",\"Perempuan\",\"Ilmu Komputer\",\">4 Tahun\",\"12-24 Jam\",\"3,01-3,5\",\"Membutuhkan\"\\n\"2021/06/02 12:18:45 PM GMT+7\",\"Anggi Wahyu Utomo\",\"192410103049\",\"Laki-laki\",\"Ilmu Komputer\",\">4 Tahun\",\"0-12 Jam\",\"3,51-4\",\"Sangat Membutuhkan\"\\n\"2021/06/02 12:18:58 PM GMT+7\",\"Fais Arina Zulfa\",\"190210301013\",\"Perempuan\",\"fkip\",\">4 Tahun\",\"12-24 Jam\",\"3,51-4\",\"Membutuhkan\"\\n\"2021/06/02 12:20:53 PM GMT+7\",\"I Dewa Putu Rafi Nasrullah\",\"192410103046\",\"Laki-laki\",\"Ilmu Komputer\",\">4 Tahun\",\"12-24 Jam\",\"3,01-3,5\",\"Membutuhkan\"\\n\"2021/06/02 12:21:01 PM GMT+7\",\"Intan nur aini\",\"190710101048\",\"Perempuan\",\"Hukum\",\">4 Tahun\",\"12-24 Jam\",\"3,01-3,5\",\"Sangat Membutuhkan\"\\n\"2021/06/02 12:21:03 PM GMT+7\",\"Adelia Permatasari \",\"192410103080\",\"Perempuan\",\"Ilmu Komputer \",\">4 Tahun\",\"12-24 Jam\",\"3,01-3,5\",\"Membutuhkan\"\\n\"2021/06/02 12:36:08 PM GMT+7\",\"Apin\",\"192410103068\",\"Laki-laki\",\"Ilmu komputer \",\">4 Tahun\",\"0-12 Jam\",\"3,01-3,5\",\"Sangat Membutuhkan\"\\n\"2021/06/02 12:37:56 PM GMT+7\",\"Ahmad Ishamul Ayady Akmal\",\"191910201045\",\"Laki-laki\",\"Teknik\",\"2-4 Tahun\",\"0-12 Jam\",\"3,51-4\",\"Sangat Membutuhkan\"\\n\"2021/06/02 12:38:47 PM GMT+7\",\"Mahesa Riski Pratama\",\"192410102054\",\"Laki-laki\",\"Ilmu Komputer\",\">4 Tahun\",\"0-12 Jam\",\"3,01-3,5\",\"Membutuhkan\"\\n\"2021/06/02 12:49:56 PM GMT+7\",\"Annisatul Ayu Qotrunnada\",\"1089\",\"Perempuan\",\"Ilmu Komputer\",\">4 Tahun\",\"0-12 Jam\",\"3,51-4\",\"Membutuhkan\"\\n\"2021/06/02 12:53:41 PM GMT+7\",\"Lala Faradilla\",\"190910202123 \",\"Perempuan\",\"FISIP\",\">4 Tahun\",\"0-12 Jam\",\"3,51-4\",\"Sangat Membutuhkan\"\\n\"2021/06/02 1:00:30 PM GMT+7\",\"Irza\",\"3067\",\"Laki-laki\",\"Ilmu Komputer\",\">4 Tahun\",\"0-12 Jam\",\"3,01-3,5\",\"Membutuhkan\"\\n\"2021/06/02 1:36:32 PM GMT+7\",\"Nova Pratiwi Damayanti\",\"192410103027\",\"Perempuan\",\"Ilmu komputer\",\">4 Tahun\",\"0-12 Jam\",\"3,51-4\",\"Sangat Membutuhkan\"\\n\"2021/06/02 1:42:30 PM GMT+7\",\"Bima Aji Pramono\",\"191610101092\",\"Laki-laki\",\"Fakultas Kedokteran Gigi\",\">4 Tahun\",\"0-12 Jam\",\"3,01-3,5\",\"Kurang Membutuhkan\"\\n\"2021/06/02 1:42:54 PM GMT+7\",\"Helmi S M\",\"192410103044\",\"Laki-laki\",\"Ilmu Komputer\",\">4 Tahun\",\"0-12 Jam\",\"3,01-3,5\",\"Membutuhkan\"\\n\"2021/06/02 2:05:31 PM GMT+7\",\"Ulrico AP\",\"191610101048\",\"Laki-laki\",\"FKG\",\">4 Tahun\",\"12-24 Jam\",\"3,01-3,5\",\"Membutuhkan\"\\n\"2021/06/02 2:13:20 PM GMT+7\",\"Pungky Rahma A\",\"190910301057\",\"Perempuan\",\"FISIP\",\">4 Tahun\",\"0-12 Jam\",\"3,51-4\",\"Membutuhkan\"\\n\"2021/06/02 2:22:12 PM GMT+7\",\"Aliya Rohmatul Ulfa\",\"192410103018\",\"Perempuan\",\"Ilmu Komputer\",\"2-4 Tahun\",\"0-12 Jam\",\"3,01-3,5\",\"Membutuhkan\"\\n\"2021/06/02 2:23:52 PM GMT+7\",\"Fatiya Putri\",\"192310101048\",\"Perempuan\",\"Keperawatan\",\">4 Tahun\",\"0-12 Jam\",\"3,51-4\",\"Kurang Membutuhkan\"\\n\"2021/06/02 2:25:02 PM GMT+7\",\"Elis tri utami\",\"192410101034\",\"Perempuan\",\"Fasilkom\",\">4 Tahun\",\"12-24 Jam\",\"3,51-4\",\"Sangat Membutuhkan\"\\n\"2021/06/02 2:36:10 PM GMT+7\",\"Aufa shofi \",\"180710101079\",\"Perempuan\",\"ILMU HUKUM\",\"2-4 Tahun\",\"0-12 Jam\",\"3,01-3,5\",\"Sangat Membutuhkan\"\\n\"2021/06/02 2:46:36 PM GMT+7\",\"Ovi sanjaya\",\"192410103041\",\"Laki-laki\",\"Ilmu komputer\",\">4 Tahun\",\"0-12 Jam\",\"3,51-4\",\"Membutuhkan\"\\n\"2021/06/02 2:53:49 PM GMT+7\",\"Abdil Aziez\",\"192410101127\",\"Laki-laki\",\"ilkom\",\"2-4 Tahun\",\"0-12 Jam\",\"3,51-4\",\"Membutuhkan\"\\n\"2021/06/02 3:12:21 PM GMT+7\",\"Andriono Dermawan\",\"191610101003\",\"Laki-laki\",\"Fakultas Kedokteran Gigi Universitas Jember\",\">4 Tahun\",\"0-12 Jam\",\"3,01-3,5\",\"Membutuhkan\"\\n\"2021/06/02 3:17:57 PM GMT+7\",\"Anggita Aldeviana\",\"191610101026\",\"Perempuan\",\"fkg\",\">4 Tahun\",\"0-12 Jam\",\"3,01-3,5\",\"Membutuhkan\"\\n\"2021/06/02 3:27:10 PM GMT+7\",\"Muhamad Wijayanto \",\"192410101096 \",\"Laki-laki\",\"Ilmu Komputer \",\">4 Tahun\",\"0-12 Jam\",\"3,01-3,5\",\"Membutuhkan\"\\n\"2021/06/02 3:29:46 PM GMT+7\",\"Firra Andriani\",\"192410101028\",\"Perempuan\",\"Fasilkom\",\">4 Tahun\",\"0-12 Jam\",\"3,51-4\",\"Membutuhkan\"\\n\"2021/06/02 4:20:11 PM GMT+7\",\"Shifa Adelia Septiduana\",\"190710101381\",\"Perempuan\",\"Ilmu hukum\",\"2-4 Tahun\",\"0-12 Jam\",\"3,01-3,5\",\"Sangat Membutuhkan\"\\n\"2021/06/02 4:23:17 PM GMT+7\",\"Amiroh\",\"192410103037\",\"Perempuan\",\"Ilmu KOmputer\",\">4 Tahun\",\"0-12 Jam\",\"3,51-4\",\"Kurang Membutuhkan\"\\n\"2021/06/02 4:36:57 PM GMT+7\",\"CHRISTMYTA VIOLA FIANDISA\",\"181610101054\",\"Perempuan\",\"KEDOKTERAN GIGI\",\">4 Tahun\",\"12-24 Jam\",\"3,01-3,5\",\"Membutuhkan\"\\n\"2021/06/02 4:38:08 PM GMT+7\",\"Mutiara Permata Putri\",\"172210101088\",\"Perempuan\",\"Farmasi\",\">4 Tahun\",\"0-12 Jam\",\"3,51-4\",\"Membutuhkan\"\\n\"2021/06/02 4:48:11 PM GMT+7\",\"Rirviantito Eza Sakti Putra\",\"191610101035\",\"Laki-laki\",\"Fakultas Kedokteran Gigi\",\">4 Tahun\",\"0-12 Jam\",\"3,01-3,5\",\"Membutuhkan\"\\n\"2021/06/02 5:08:54 PM GMT+7\",\"Tia Wahyu\",\"305@\",\"Perempuan\",\"Ilmu Komputer\",\">4 Tahun\",\"0-12 Jam\",\"3,01-3,5\",\"Sangat Membutuhkan\"\\n\"2021/06/02 5:10:45 PM GMT+7\",\"Alife Zinedine Riza\",\"192410102013\",\"Laki-laki\",\"Ilmu komputer\",\">4 Tahun\",\"0-12 Jam\",\"3,51-4\",\"Membutuhkan\"\\n\"2021/06/02 5:12:06 PM GMT+7\",\"Amelia Azharin\",\"190810201052\",\"Perempuan\",\"Ekonomi dan Bisnis\",\">4 Tahun\",\"0-12 Jam\",\"3,01-3,5\",\"Sangat Membutuhkan\"\\n\"2021/06/02 5:21:19 PM GMT+7\",\"Rosa amelia\",\"192410101022\",\"Perempuan\",\"Universitas jember\",\">4 Tahun\",\"12-24 Jam\",\"3,51-4\",\"Sangat Membutuhkan\"\\n\"2021/06/02 5:31:26 PM GMT+7\",\"Choirul Umam\",\"192410103014\",\"Laki-laki\",\"Informatika\",\">4 Tahun\",\"12-24 Jam\",\"3,51-4\",\"Membutuhkan\"\\n\"2021/06/02 5:52:36 PM GMT+7\",\"Mileni K\",\"191610101153\",\"Perempuan\",\"Kedokteran Gigi\",\">4 Tahun\",\"12-24 Jam\",\"3,01-3,5\",\"Membutuhkan\"\\n\"2021/06/02 6:00:36 PM GMT+7\",\"Layyinatuzzahrah Wahidah\",\"192410103075\",\"Perempuan\",\"Ilmu komputer\",\">4 Tahun\",\"0-12 Jam\",\"3,01-3,5\",\"Membutuhkan\"\\n\"2021/06/02 6:04:43 PM GMT+7\",\"Natasya Febiola A\",\"192310101138\",\"Perempuan\",\"Universutas jember\",\">4 Tahun\",\"0-12 Jam\",\"3,01-3,5\",\"Membutuhkan\"\\n\"2021/06/02 6:06:54 PM GMT+7\",\"Farizha Amalia R\",\"191510501056\",\"Perempuan\",\"Pertanian\",\">4 Tahun\",\"12-24 Jam\",\"3,51-4\",\"Membutuhkan\"\\n\"2021/06/02 6:13:33 PM GMT+7\",\"Mohammad Aldi\",\"192410103043\",\"Laki-laki\",\"Ilmu Komputer\",\">4 Tahun\",\"0-12 Jam\",\"3,01-3,5\",\"Membutuhkan\"\\n\"2021/06/02 6:28:45 PM GMT+7\",\"Galih Siswo Hidayatullah\",\"182410102018\",\"Laki-laki\",\"Fasilkom\",\">4 Tahun\",\"0-12 Jam\",\"3,01-3,5\",\"Sangat Membutuhkan\"\\n\"2021/06/02 6:29:57 PM GMT+7\",\"Virgin\",\"20187089\",\"Perempuan\",\"FKIP matematika\",\">4 Tahun\",\"0-12 Jam\",\"3,01-3,5\",\"Sangat Membutuhkan\"\\n\"2021/06/02 6:33:12 PM GMT+7\",\"Rizqi Syabrina Haq\",\"192410101109\",\"Perempuan\",\"Ilmu Komputer\",\">4 Tahun\",\"0-12 Jam\",\"3,51-4\",\"Membutuhkan\"\\n\"2021/06/02 6:35:07 PM GMT+7\",\"LAILY SYAHRIYATUL MAULIDAH\",\"190210204110\",\"Perempuan\",\"FKIP\",\">4 Tahun\",\"12-24 Jam\",\"3,51-4\",\"Sangat Membutuhkan\"\\n\"2021/06/02 6:36:32 PM GMT+7\",\"Dayinta Zahra \",\"191610101044\",\"Perempuan\",\"Kedokteran Gigi\",\">4 Tahun\",\"0-12 Jam\",\"3,51-4\",\"Membutuhkan\"\\n\"2021/06/02 8:00:35 PM GMT+7\",\"Khadijah\",\"191610101043\",\"Perempuan\",\"FKG\",\">4 Tahun\",\"0-12 Jam\",\"3,01-3,5\",\"Kurang Membutuhkan\"\\n\"2021/06/02 8:08:14 PM GMT+7\",\"Andriono Dermawan\",\"191610101003\",\"Laki-laki\",\"Fakultas Kedokteran Gigi Universitas Jember\",\">4 Tahun\",\"0-12 Jam\",\"3,01-3,5\",\"Membutuhkan\"\\n\"2021/06/02 8:11:24 PM GMT+7\",\"Kiki Ayu Hartanti Saputri\",\"190210402079\",\"Perempuan\",\"Fakultas Keguruan dan Ilmu Pendidikan\",\">4 Tahun\",\"0-12 Jam\",\"3,51-4\",\"Membutuhkan\"\\n\"2021/06/02 8:11:48 PM GMT+7\",\"Ezra\",\"182410101095\",\"Laki-laki\",\"Ilmu komputer\",\">4 Tahun\",\"0-12 Jam\",\"3,51-4\",\"Membutuhkan\"\\n\"2021/06/02 8:11:54 PM GMT+7\",\"Afandy Maulana Pangestu\",\"192410102056\",\"Laki-laki\",\"Ilmu Komputer\",\">4 Tahun\",\"0-12 Jam\",\"3,51-4\",\"Membutuhkan\"\\n\"2021/06/02 8:12:02 PM GMT+7\",\"Robi\",\"19-1129\",\"Laki-laki\",\"fasilkom\",\">4 Tahun\",\"0-12 Jam\",\"3,01-3,5\",\"Membutuhkan\"\\n\"2021/06/02 8:12:20 PM GMT+7\",\"Salsabila Shofi Atikah Dewi\",\"191610101135\",\"Perempuan\",\"Fakultas Kedokteran Gigi\",\">4 Tahun\",\"0-12 Jam\",\"3,01-3,5\",\"Sangat Membutuhkan\"\\n\"2021/06/02 8:12:22 PM GMT+7\",\"Achmad Ajif Fahmi \",\"191710101100\",\"Laki-laki\",\"FTP\",\"2-4 Tahun\",\"12-24 Jam\",\"3,01-3,5\",\"Sangat Membutuhkan\"\\n\"2021/06/02 8:12:41 PM GMT+7\",\"Shintia Anggi Dwi Pramieta\",\"192410102058\",\"Perempuan\",\"Ilmu Komputer \",\">4 Tahun\",\"0-12 Jam\",\"3,01-3,5\",\"Membutuhkan\"\\n\"2021/06/02 8:12:56 PM GMT+7\",\"nur afni windi auiya\",\"182410103036\",\"Perempuan\",\"fasilkom\",\"2-4 Tahun\",\"0-12 Jam\",\"3,01-3,5\",\"Membutuhkan\"\\n\"2021/06/02 8:13:48 PM GMT+7\",\"Alhamdana Adhitya N.R\",\"182410101074\",\"Laki-laki\",\"Ilmu Komputer\",\">4 Tahun\",\"0-12 Jam\",\"3,51-4\",\"Sangat Membutuhkan\"\\n\"2021/06/02 8:14:28 PM GMT+7\",\"Nor Kholil\",\"192410101018\",\"Laki-laki\",\"Fasilkom\",\">4 Tahun\",\"0-12 Jam\",\"3,01-3,5\",\"Membutuhkan\"\\n\"2021/06/02 8:17:27 PM GMT+7\",\"Figo Perdana Putra\",\"192410102022\",\"Laki-laki\",\"Ilmu Komputer\",\">4 Tahun\",\"0-12 Jam\",\"3,01-3,5\",\"Sangat Membutuhkan\"\\n\"2021/06/02 8:17:49 PM GMT+7\",\"Muhammad Sultan Hasbie A\",\"192410102007\",\"Laki-laki\",\"Ilkom\",\">4 Tahun\",\"0-12 Jam\",\"3,01-3,5\",\"Kurang Membutuhkan\"\\n\"2021/06/02 8:19:53 PM GMT+7\",\"Dimas Rifriandi\",\"182410101080\",\"Laki-laki\",\"Ilmu Komputer\",\">4 Tahun\",\"0-12 Jam\",\"3,51-4\",\"Membutuhkan\"\\n\"2021/06/02 8:21:19 PM GMT+7\",\"aprilia nurma firdausi\",\"192110101050\",\"Perempuan\",\"kesehatan masyarakat\",\">4 Tahun\",\"12-24 Jam\",\"3,51-4\",\"Membutuhkan\"\\n\"2021/06/02 8:24:19 PM GMT+7\",\"Achmad Abdi C M\",\"190810201096\",\"Laki-laki\",\"Ekonomi dan Bisnis\",\">4 Tahun\",\"0-12 Jam\",\"3,01-3,5\",\"Membutuhkan\"\\n\"2021/06/02 8:28:15 PM GMT+7\",\"Siti Rofiatus Sholihah\",\"192110102010\",\"Perempuan\",\"Kesehatan Masyarakat\",\">4 Tahun\",\"0-12 Jam\",\"3,01-3,5\",\"Sangat Membutuhkan\"\\n\"2021/06/02 8:38:56 PM GMT+7\",\"Widya Lestari\",\"190810301032\",\"Perempuan\",\"Ekonomi dan Bisnis\",\">4 Tahun\",\"0-12 Jam\",\"3,51-4\",\"Membutuhkan\"\\n\"2021/06/02 8:43:05 PM GMT+7\",\"Caesarina Kurnia Ananta\",\"182410102008\",\"Perempuan\",\"Fakultas ilmu komputer\",\">4 Tahun\",\"12-24 Jam\",\"3,51-4\",\"Sangat Membutuhkan\"\\n\"2021/06/02 8:47:59 PM GMT+7\",\"Rr. Safitri Arumningtyas \",\"182410101040\",\"Perempuan\",\"Ilmu komputer \",\">4 Tahun\",\"0-12 Jam\",\"3,51-4\",\"Sangat Membutuhkan\"\\n\"2021/06/02 9:00:50 PM GMT+7\",\"Tedy Dani Kusuma \",\"182410101013 \",\"Laki-laki\",\"Ilmu Komputer \",\">4 Tahun\",\"0-12 Jam\",\"3,01-3,5\",\"Membutuhkan\"\\n\"2021/06/02 9:23:21 PM GMT+7\",\"Fitri Dwi Alfina\",\"192410102085\",\"Perempuan\",\"Ilmu Komputer\",\">4 Tahun\",\"0-12 Jam\",\"3,51-4\",\"Sangat Membutuhkan\"\\n\"2021/06/02 9:43:06 PM GMT+7\",\"Hafizh Ictansyah Walliyyudin\",\"190110401017\",\"Laki-laki\",\"Ilmu budaya\",\">4 Tahun\",\"0-12 Jam\",\"3,51-4\",\"Membutuhkan\"\\n\"2021/06/02 9:55:47 PM GMT+7\",\"Tri Wahyu Ambarsari\",\"192110102005\",\"Perempuan\",\"Kesehatan Masyarakat\",\">4 Tahun\",\"12-24 Jam\",\"3,51-4\",\"Sangat Membutuhkan\"\\n\"2021/06/02 10:06:40 PM GMT+7\",\"Yoski Tanjung\",\"182410101078\",\"Laki-laki\",\"Ilmu Komputer\",\">4 Tahun\",\"12-24 Jam\",\"3,51-4\",\"Membutuhkan\"\\n\"2021/06/02 10:13:30 PM GMT+7\",\"Lynna ayu mayangsari\",\"172410101015\",\"Perempuan\",\"Ilmu Komputer\",\">4 Tahun\",\"0-12 Jam\",\"3,51-4\",\"Sangat Membutuhkan\"\\n\"2021/06/02 10:15:34 PM GMT+7\",\"Karimah\",\"182410101035\",\"Perempuan\",\"Ilmu komputer\",\">4 Tahun\",\"0-12 Jam\",\"3,51-4\",\"Membutuhkan\"\\n\"2021/06/02 10:16:33 PM GMT+7\",\"Nadia Cahya Rani\",\"182410101031\",\"Perempuan\",\"Ilmu Komputer\",\">4 Tahun\",\"12-24 Jam\",\"3,51-4\",\"Sangat Membutuhkan\"\\n\"2021/06/02 10:24:46 PM GMT+7\",\"Azizah\",\"18-3042\",\"Perempuan\",\"Ilmu Komputer\",\">4 Tahun\",\"0-12 Jam\",\"3,51-4\",\"Kurang Membutuhkan\"\\n\"2021/06/02 10:44:28 PM GMT+7\",\"Pradana rizki\",\"182410103020\",\"Laki-laki\",\"Ilkom\",\">4 Tahun\",\"0-12 Jam\",\"3,01-3,5\",\"Sangat Membutuhkan\"\\n\"2021/06/02 10:44:57 PM GMT+7\",\"Salsabila\",\"192410101121\",\"Perempuan\",\"Ilmu Komputer\",\">4 Tahun\",\"12-24 Jam\",\"3,01-3,5\",\"Sangat Membutuhkan\"\\n\"2021/06/03 12:20:56 AM GMT+7\",\"Salsabila wahyu\",\"190710101197\",\"Perempuan\",\"hukum\",\">4 Tahun\",\"0-12 Jam\",\"3,51-4\",\"Sangat Membutuhkan\"\\n\"2021/06/03 12:41:22 AM GMT+7\",\"Maya\",\"192410101107\",\"Perempuan\",\"Ilmu Komputer\",\">4 Tahun\",\"0-12 Jam\",\"3,51-4\",\"Sangat Membutuhkan\"\\n\"2021/06/03 1:01:34 AM GMT+7\",\"Mileni K\",\"191610101153\",\"Perempuan\",\"Kedokteran Gigi\",\">4 Tahun\",\"12-24 Jam\",\"3,01-3,5\",\"Membutuhkan\"\\n\"2021/06/03 1:03:19 AM GMT+7\",\"Mileni K\",\"191610101153\",\"Perempuan\",\"Kedokteran Gigi\",\">4 Tahun\",\"12-24 Jam\",\"3,01-3,5\",\"Membutuhkan\"\\n\"2021/06/03 5:03:13 AM GMT+7\",\"Fahreza\",\"192410101128\",\"Laki-laki\",\"Ilkom\",\">4 Tahun\",\"0-12 Jam\",\"3,01-3,5\",\"Kurang Membutuhkan\"\\n\"2021/06/03 6:53:49 AM GMT+7\",\"Fika Nurfitria Priatyasari\",\"172410103003\",\"Perempuan\",\"Ilmu Komputer\",\">4 Tahun\",\"12-24 Jam\",\"3,01-3,5\",\"Membutuhkan\"\\n\"2021/06/03 7:46:58 AM GMT+7\",\"Sucitra Risa P\",\"190210402018\",\"Perempuan\",\"FKIP\",\">4 Tahun\",\"0-12 Jam\",\"3,51-4\",\"Membutuhkan\"\\n\"2021/06/03 10:47:21 AM GMT+7\",\"Lavenia Ika Wardhana\",\"190210401069\",\"Perempuan\",\"FKIP\",\">4 Tahun\",\"0-12 Jam\",\"3,51-4\",\"Membutuhkan\"\\n\"2021/06/03 11:45:57 AM GMT+7\",\"Afrida W\",\"192410101002\",\"Perempuan\",\"Ilmu Komputer\",\">4 Tahun\",\"0-12 Jam\",\"3,51-4\",\"Membutuhkan\"\\n\"2021/06/03 12:19:05 PM GMT+7\",\"Tita Saskia Asmoro\",\"192310101149\",\"Perempuan\",\"Keperawatan\",\">4 Tahun\",\"0-12 Jam\",\"3,01-3,5\",\"Membutuhkan\"\\n\"2021/06/03 12:22:07 PM GMT+7\",\"Ananda Putri Citra Kusuma Dewi\",\"190210302036\",\"Perempuan\",\"Fakultas Keguruan dan Ilmu Pendidikan\",\">4 Tahun\",\"12-24 Jam\",\"3,51-4\",\"Membutuhkan\"'}"
            ]
          },
          "metadata": {
            "tags": []
          },
          "execution_count": 39
        }
      ]
    },
    {
      "cell_type": "code",
      "metadata": {
        "colab": {
          "base_uri": "https://localhost:8080/"
        },
        "id": "uzo_-5bOcCdE",
        "outputId": "d6a82e9f-c4a4-41b8-cf6c-94dfc5481ebd"
      },
      "source": [
        "import io\n",
        "df = pd.read_csv(io.StringIO(filenya['range.csv'].decode('utf-8')))\n",
        "print(df)"
      ],
      "execution_count": 41,
      "outputs": [
        {
          "output_type": "stream",
          "text": [
            "                        Timestamp  ... Tingkat Kebutuhan Penggunaan Medsos\n",
            "0    2021/06/02 11:04:41 AM GMT+7  ...                  Sangat Membutuhkan\n",
            "1    2021/06/02 11:05:44 AM GMT+7  ...                  Sangat Membutuhkan\n",
            "2    2021/06/02 11:12:35 AM GMT+7  ...                  Sangat Membutuhkan\n",
            "3    2021/06/02 11:12:39 AM GMT+7  ...                         Membutuhkan\n",
            "4    2021/06/02 11:14:26 AM GMT+7  ...                         Membutuhkan\n",
            "..                            ...  ...                                 ...\n",
            "126   2021/06/03 7:46:58 AM GMT+7  ...                         Membutuhkan\n",
            "127  2021/06/03 10:47:21 AM GMT+7  ...                         Membutuhkan\n",
            "128  2021/06/03 11:45:57 AM GMT+7  ...                         Membutuhkan\n",
            "129  2021/06/03 12:19:05 PM GMT+7  ...                         Membutuhkan\n",
            "130  2021/06/03 12:22:07 PM GMT+7  ...                         Membutuhkan\n",
            "\n",
            "[131 rows x 9 columns]\n"
          ],
          "name": "stdout"
        }
      ]
    },
    {
      "cell_type": "code",
      "metadata": {
        "colab": {
          "base_uri": "https://localhost:8080/",
          "height": 405
        },
        "id": "k5V2A0uVcseG",
        "outputId": "6f5a8c99-389e-4baf-a29f-ee9cecb4fbfe"
      },
      "source": [
        "df.head()"
      ],
      "execution_count": 42,
      "outputs": [
        {
          "output_type": "execute_result",
          "data": {
            "text/html": [
              "<div>\n",
              "<style scoped>\n",
              "    .dataframe tbody tr th:only-of-type {\n",
              "        vertical-align: middle;\n",
              "    }\n",
              "\n",
              "    .dataframe tbody tr th {\n",
              "        vertical-align: top;\n",
              "    }\n",
              "\n",
              "    .dataframe thead th {\n",
              "        text-align: right;\n",
              "    }\n",
              "</style>\n",
              "<table border=\"1\" class=\"dataframe\">\n",
              "  <thead>\n",
              "    <tr style=\"text-align: right;\">\n",
              "      <th></th>\n",
              "      <th>Timestamp</th>\n",
              "      <th>Nama</th>\n",
              "      <th>NIM</th>\n",
              "      <th>Jenis Kelamin</th>\n",
              "      <th>Fakultas</th>\n",
              "      <th>Periode Memiliki Medsos</th>\n",
              "      <th>Durasi Penggunaan Medsos Sehari</th>\n",
              "      <th>IPK</th>\n",
              "      <th>Tingkat Kebutuhan Penggunaan Medsos</th>\n",
              "    </tr>\n",
              "  </thead>\n",
              "  <tbody>\n",
              "    <tr>\n",
              "      <th>0</th>\n",
              "      <td>2021/06/02 11:04:41 AM GMT+7</td>\n",
              "      <td>Sisca Cahya Puspita</td>\n",
              "      <td>192410103009</td>\n",
              "      <td>Perempuan</td>\n",
              "      <td>Fakultas Ilmu Komputer</td>\n",
              "      <td>&gt;4 Tahun</td>\n",
              "      <td>0-12 Jam</td>\n",
              "      <td>3,01-3,5</td>\n",
              "      <td>Sangat Membutuhkan</td>\n",
              "    </tr>\n",
              "    <tr>\n",
              "      <th>1</th>\n",
              "      <td>2021/06/02 11:05:44 AM GMT+7</td>\n",
              "      <td>RONIN DUTTA AMANDA</td>\n",
              "      <td>191610101041</td>\n",
              "      <td>Laki-laki</td>\n",
              "      <td>KEDOKTERAN GIGI</td>\n",
              "      <td>&gt;4 Tahun</td>\n",
              "      <td>0-12 Jam</td>\n",
              "      <td>3,01-3,5</td>\n",
              "      <td>Sangat Membutuhkan</td>\n",
              "    </tr>\n",
              "    <tr>\n",
              "      <th>2</th>\n",
              "      <td>2021/06/02 11:12:35 AM GMT+7</td>\n",
              "      <td>Novita Milasari</td>\n",
              "      <td>192410103011</td>\n",
              "      <td>Perempuan</td>\n",
              "      <td>Ilmu Komputer</td>\n",
              "      <td>&gt;4 Tahun</td>\n",
              "      <td>12-24 Jam</td>\n",
              "      <td>3,01-3,5</td>\n",
              "      <td>Sangat Membutuhkan</td>\n",
              "    </tr>\n",
              "    <tr>\n",
              "      <th>3</th>\n",
              "      <td>2021/06/02 11:12:39 AM GMT+7</td>\n",
              "      <td>Ananda Putri Citra Kusuma Dewi</td>\n",
              "      <td>190210302036</td>\n",
              "      <td>Perempuan</td>\n",
              "      <td>Fakultas Keguruan dan Ilmu Pendidikan</td>\n",
              "      <td>&gt;4 Tahun</td>\n",
              "      <td>12-24 Jam</td>\n",
              "      <td>3,51-4</td>\n",
              "      <td>Membutuhkan</td>\n",
              "    </tr>\n",
              "    <tr>\n",
              "      <th>4</th>\n",
              "      <td>2021/06/02 11:14:26 AM GMT+7</td>\n",
              "      <td>Lila</td>\n",
              "      <td>192410103047</td>\n",
              "      <td>Perempuan</td>\n",
              "      <td>Ilmu komputer</td>\n",
              "      <td>&gt;4 Tahun</td>\n",
              "      <td>12-24 Jam</td>\n",
              "      <td>3,01-3,5</td>\n",
              "      <td>Membutuhkan</td>\n",
              "    </tr>\n",
              "  </tbody>\n",
              "</table>\n",
              "</div>"
            ],
            "text/plain": [
              "                      Timestamp  ... Tingkat Kebutuhan Penggunaan Medsos\n",
              "0  2021/06/02 11:04:41 AM GMT+7  ...                  Sangat Membutuhkan\n",
              "1  2021/06/02 11:05:44 AM GMT+7  ...                  Sangat Membutuhkan\n",
              "2  2021/06/02 11:12:35 AM GMT+7  ...                  Sangat Membutuhkan\n",
              "3  2021/06/02 11:12:39 AM GMT+7  ...                         Membutuhkan\n",
              "4  2021/06/02 11:14:26 AM GMT+7  ...                         Membutuhkan\n",
              "\n",
              "[5 rows x 9 columns]"
            ]
          },
          "metadata": {
            "tags": []
          },
          "execution_count": 42
        }
      ]
    },
    {
      "cell_type": "code",
      "metadata": {
        "colab": {
          "base_uri": "https://localhost:8080/"
        },
        "id": "mjNNVnGV0T_J",
        "outputId": "29192a05-3151-48ea-c52b-f0f8b2a33899"
      },
      "source": [
        "df['Durasi Penggunaan Medsos Sehari']"
      ],
      "execution_count": 45,
      "outputs": [
        {
          "output_type": "execute_result",
          "data": {
            "text/plain": [
              "0       0-12 Jam\n",
              "1       0-12 Jam\n",
              "2      12-24 Jam\n",
              "3      12-24 Jam\n",
              "4      12-24 Jam\n",
              "         ...    \n",
              "126     0-12 Jam\n",
              "127     0-12 Jam\n",
              "128     0-12 Jam\n",
              "129     0-12 Jam\n",
              "130    12-24 Jam\n",
              "Name: Durasi Penggunaan Medsos Sehari, Length: 131, dtype: object"
            ]
          },
          "metadata": {
            "tags": []
          },
          "execution_count": 45
        }
      ]
    },
    {
      "cell_type": "code",
      "metadata": {
        "colab": {
          "base_uri": "https://localhost:8080/"
        },
        "id": "FyTlP36ZdAqi",
        "outputId": "b46f8920-84df-4de3-b158-f14f69b60529"
      },
      "source": [
        "#modus\n",
        "parameterModus = 0\n",
        "nilaiModus = []\n",
        " \n",
        "angkaYangMauDiHitung = df.IPK[0]\n",
        "banyakAngka = 1\n",
        " \n",
        "for i in range(1, len(df.IPK)):\n",
        "    if (df.IPK[i] == angkaYangMauDiHitung):\n",
        "       banyakAngka += 1\n",
        "    else:\n",
        "        if (banyakAngka > parameterModus):\n",
        "            parameterModus = banyakAngka\n",
        "            nilaiModus = []\n",
        "            nilaiModus.append(angkaYangMauDiHitung)\n",
        "        elif (banyakAngka == parameterModus):\n",
        "            nilaiModus.append(angkaYangMauDiHitung)\n",
        "        angkaYangMauDiHitung = df.IPK[i]\n",
        "        banyakAngka = 1\n",
        "if (banyakAngka > parameterModus):\n",
        "    parameterModus = banyakAngka\n",
        "    nilaiModus = []\n",
        "    nilaiModus.append(angkaYangMauDiHitung)\n",
        "elif (banyakAngka == parameterModus):\n",
        "    nilaiModus.append(angkaYangMauDiHitung)\n",
        " \n",
        "print('Modus data: ', nilaiModus)"
      ],
      "execution_count": 43,
      "outputs": [
        {
          "output_type": "stream",
          "text": [
            "Modus data:  ['3,51-4']\n"
          ],
          "name": "stdout"
        }
      ]
    },
    {
      "cell_type": "code",
      "metadata": {
        "colab": {
          "base_uri": "https://localhost:8080/"
        },
        "id": "X5fCl76LpLtf",
        "outputId": "2dd6c745-1a97-461b-f949-f0f058f1f1a0"
      },
      "source": [
        "#modus\n",
        "parameterModus = 0\n",
        "nilaiModus = []\n",
        " \n",
        "angkaYangMauDiHitung = df['Durasi Penggunaan Medsos Sehari'][0]\n",
        "banyakAngka = 1\n",
        " \n",
        "for i in range(1, len(df['Durasi Penggunaan Medsos Sehari'])):\n",
        "    if (df['Durasi Penggunaan Medsos Sehari'][i] == angkaYangMauDiHitung):\n",
        "       banyakAngka += 1\n",
        "    else:\n",
        "        if (banyakAngka > parameterModus):\n",
        "            parameterModus = banyakAngka\n",
        "            nilaiModus = []\n",
        "            nilaiModus.append(angkaYangMauDiHitung)\n",
        "        elif (banyakAngka == parameterModus):\n",
        "            nilaiModus.append(angkaYangMauDiHitung)\n",
        "        angkaYangMauDiHitung = df['Durasi Penggunaan Medsos Sehari'][i]\n",
        "        banyakAngka = 1\n",
        "if (banyakAngka > parameterModus):\n",
        "    parameterModus = banyakAngka\n",
        "    nilaiModus = []\n",
        "    nilaiModus.append(angkaYangMauDiHitung)\n",
        "elif (banyakAngka == parameterModus):\n",
        "    nilaiModus.append(angkaYangMauDiHitung)\n",
        " \n",
        "print('Modus data: ', nilaiModus[0])"
      ],
      "execution_count": 47,
      "outputs": [
        {
          "output_type": "stream",
          "text": [
            "Modus data:  0-12 Jam\n"
          ],
          "name": "stdout"
        }
      ]
    },
    {
      "cell_type": "code",
      "metadata": {
        "colab": {
          "base_uri": "https://localhost:8080/"
        },
        "id": "5D69bu8J1sMm",
        "outputId": "9ff87b66-03b4-4359-8169-da6ccca57f6f"
      },
      "source": [
        "#modus\n",
        "parameterModus = 0\n",
        "nilaiModus = []\n",
        " \n",
        "angkaYangMauDiHitung = df['Tingkat Kebutuhan Penggunaan Medsos'][0]\n",
        "banyakAngka = 1\n",
        " \n",
        "for i in range(1, len(df['Tingkat Kebutuhan Penggunaan Medsos'])):\n",
        "    if (df['Tingkat Kebutuhan Penggunaan Medsos'][i] == angkaYangMauDiHitung):\n",
        "       banyakAngka += 1\n",
        "    else:\n",
        "        if (banyakAngka > parameterModus):\n",
        "            parameterModus = banyakAngka\n",
        "            nilaiModus = []\n",
        "            nilaiModus.append(angkaYangMauDiHitung)\n",
        "        elif (banyakAngka == parameterModus):\n",
        "            nilaiModus.append(angkaYangMauDiHitung)\n",
        "        angkaYangMauDiHitung = df['Tingkat Kebutuhan Penggunaan Medsos'][i]\n",
        "        banyakAngka = 1\n",
        "if (banyakAngka > parameterModus):\n",
        "    parameterModus = banyakAngka\n",
        "    nilaiModus = []\n",
        "    nilaiModus.append(angkaYangMauDiHitung)\n",
        "elif (banyakAngka == parameterModus):\n",
        "    nilaiModus.append(angkaYangMauDiHitung)\n",
        " \n",
        "print('Modus data: ', nilaiModus[0])"
      ],
      "execution_count": 51,
      "outputs": [
        {
          "output_type": "stream",
          "text": [
            "Modus data:  Membutuhkan\n"
          ],
          "name": "stdout"
        }
      ]
    }
  ]
}